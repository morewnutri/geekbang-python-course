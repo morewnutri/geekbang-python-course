{
 "cells": [
  {
   "cell_type": "markdown",
   "metadata": {},
   "source": [
    "作业一：\n",
    "\n",
    "安装并使用 requests、bs4 库，爬取猫眼电影（）的前 10 个电影名称、电影类型和上映时间，\n",
    "并以 UTF-8 字符集保存到 csv 格式的文件中。"
   ]
  },
  {
   "cell_type": "code",
   "execution_count": 11,
   "metadata": {},
   "outputs": [],
   "source": [
    "import requests\n",
    "from bs4 import BeautifulSoup as bs\n",
    "\n",
    "user_agent='Mozilla/5.0 (Macintosh; Intel Mac OS X 10_15_1) AppleWebKit/537.36 (KHTML, like Gecko) Chrome/78.0.3904.108 Safari/537.36'\n",
    "\n",
    "header={'user-agent':user_agent}\n",
    "\n",
    "myurl='https://maoyan.com/board/6'\n",
    "\n",
    "response=requests.get(myurl,headers=header)\n",
    "\n",
    "bs_info=bs(response.text,'html.parser')#bs_info得到的是？\n",
    "\n",
    "#print(response.text)#没有print的话输出内容很乱\n",
    "#print(f'返回码是: {response.status_code}')\n",
    "#格式化字符串字面值 （常简称为 f-字符串）能让你在字符串前加上 f 和 F 并将表达式写成 {expression} \n",
    "#来在字符串中包含 Python 表达式的值。可选的格式说明符可以跟在表达式后面。这样可以更好地控制值的格式化方式。\n",
    "\n",
    "for tags in bs_info.find_all('div', attrs={'class': 'movie-item-info'}):\n",
    "    for atag in tags.find_all('a'):\n",
    "        print(atag.get('href'))\n",
    "        # 获取所有链接\n",
    "       # print(atag.find('p').text)\n",
    "        # 获取电影名字"
   ]
  },
  {
   "cell_type": "code",
   "execution_count": null,
   "metadata": {},
   "outputs": [],
   "source": []
  },
  {
   "cell_type": "code",
   "execution_count": null,
   "metadata": {},
   "outputs": [],
   "source": []
  }
 ],
 "metadata": {
  "kernelspec": {
   "display_name": "Python 3",
   "language": "python",
   "name": "python3"
  },
  "language_info": {
   "codemirror_mode": {
    "name": "ipython",
    "version": 3
   },
   "file_extension": ".py",
   "mimetype": "text/x-python",
   "name": "python",
   "nbconvert_exporter": "python",
   "pygments_lexer": "ipython3",
   "version": "3.7.4"
  }
 },
 "nbformat": 4,
 "nbformat_minor": 2
}
