{
 "cells": [
  {
   "cell_type": "code",
   "execution_count": 2,
   "metadata": {},
   "outputs": [],
   "source": [
    "def chain(num):\n",
    "    for it in range(num):\n",
    "        yield it\n",
    "\n",
    "num = 5 \n",
    "y = chain(num)\n"
   ]
  },
  {
   "cell_type": "code",
   "execution_count": 4,
   "metadata": {},
   "outputs": [
    {
     "data": {
      "text/plain": [
       "1"
      ]
     },
     "execution_count": 4,
     "metadata": {},
     "output_type": "execute_result"
    }
   ],
   "source": [
    "next(y)\n",
    "#list(y)\n",
    "#next(y)"
   ]
  },
  {
   "cell_type": "code",
   "execution_count": null,
   "metadata": {},
   "outputs": [],
   "source": [
    "mylist = []\n",
    "for i in range(1, 11):\n",
    "    if i > 5:\n",
    "        mylist.append(i**2)\n",
    "\n",
    "# 列表推导式\n",
    "mylist2 = [i**2 for i in range(1, 11) if i > 5]\n",
    "\n",
    "# 循环嵌套\n",
    "mylist = [str(i) + j for i in range(1, 6) for j in 'ABCDE']\n",
    "\n",
    "# 用推导式将字典转换为列表\n",
    "mydict = {'key1': 'value1', 'key2': 'value2'}\n",
    "mylist2 = [key + ':' + value for key, value in mydict.items()]\n",
    "\n",
    "# 推导式生成字典\n",
    "mydict = {i: i*i for i in (5, 6, 7)}\n",
    "\n",
    "# 推导式实现字典的k-v互换\n",
    "{value: key for key, value in mydict.items()}\n",
    "\n",
    "# 推导式生成集合\n",
    "myset = {i for i in 'HarryPotter' if i not in 'er'}\n",
    "\n",
    "# 推导式生成 生成器\n",
    "mygenerator = (i for i in range(0, 11))\n",
    "print(mygenerator)\n",
    "print(list(mygenerator))"
   ]
  }
 ],
 "metadata": {
  "kernelspec": {
   "display_name": "Python 3",
   "language": "python",
   "name": "python3"
  },
  "language_info": {
   "codemirror_mode": {
    "name": "ipython",
    "version": 3
   },
   "file_extension": ".py",
   "mimetype": "text/x-python",
   "name": "python",
   "nbconvert_exporter": "python",
   "pygments_lexer": "ipython3",
   "version": "3.7.4"
  }
 },
 "nbformat": 4,
 "nbformat_minor": 2
}
