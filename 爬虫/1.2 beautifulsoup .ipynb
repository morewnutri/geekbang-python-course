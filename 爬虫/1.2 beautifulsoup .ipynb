{
 "cells": [
  {
   "cell_type": "code",
   "execution_count": 1,
   "metadata": {},
   "outputs": [
    {
     "name": "stdout",
     "output_type": "stream",
     "text": [
      "https://movie.douban.com/subject/1292052/\n",
      "肖申克的救赎\n",
      "https://movie.douban.com/subject/1291546/\n",
      "霸王别姬\n",
      "https://movie.douban.com/subject/1292720/\n",
      "阿甘正传\n",
      "https://movie.douban.com/subject/1295644/\n",
      "这个杀手不太冷\n",
      "https://movie.douban.com/subject/1292063/\n",
      "美丽人生\n",
      "https://movie.douban.com/subject/1292722/\n",
      "泰坦尼克号\n",
      "https://movie.douban.com/subject/1291561/\n",
      "千与千寻\n",
      "https://movie.douban.com/subject/1295124/\n",
      "辛德勒的名单\n",
      "https://movie.douban.com/subject/3541415/\n",
      "盗梦空间\n",
      "https://movie.douban.com/subject/3011091/\n",
      "忠犬八公的故事\n",
      "https://movie.douban.com/subject/1292001/\n",
      "海上钢琴师\n",
      "https://movie.douban.com/subject/1292064/\n",
      "楚门的世界\n",
      "https://movie.douban.com/subject/3793023/\n",
      "三傻大闹宝莱坞\n",
      "https://movie.douban.com/subject/2131459/\n",
      "机器人总动员\n",
      "https://movie.douban.com/subject/1291549/\n",
      "放牛班的春天\n",
      "https://movie.douban.com/subject/1889243/\n",
      "星际穿越\n",
      "https://movie.douban.com/subject/1292213/\n",
      "大话西游之大圣娶亲\n",
      "https://movie.douban.com/subject/5912992/\n",
      "熔炉\n",
      "https://movie.douban.com/subject/25662329/\n",
      "疯狂动物城\n",
      "https://movie.douban.com/subject/1307914/\n",
      "无间道\n",
      "https://movie.douban.com/subject/1291560/\n",
      "龙猫\n",
      "https://movie.douban.com/subject/1291841/\n",
      "教父\n",
      "https://movie.douban.com/subject/1849031/\n",
      "当幸福来敲门\n",
      "https://movie.douban.com/subject/3319755/\n",
      "怦然心动\n",
      "https://movie.douban.com/subject/6786002/\n",
      "触不可及\n"
     ]
    }
   ],
   "source": [
    "import requests\n",
    "from bs4 import BeautifulSoup as bs\n",
    "# bs4是第三方库需要使用pip命令安装\n",
    "\n",
    "\n",
    "user_agent = 'Mozilla/5.0 (Macintosh; Intel Mac OS X 10_15_1) AppleWebKit/537.36 (KHTML, like Gecko) Chrome/78.0.3904.108 Safari/537.36'\n",
    "\n",
    "header = {'user-agent':user_agent}\n",
    "\n",
    "myurl = 'https://movie.douban.com/top250'\n",
    "\n",
    "response = requests.get(myurl,headers=header)#response是网页源代码内容\n",
    "\n",
    "bs_info = bs(response.text, 'html.parser')\n",
    "#response.txt是网页内容，html.parser是解析方法\n",
    "#到这里网页内容没变，代码只是做了对整个网页的一次搜索。\n",
    "\n",
    "\n",
    "\n",
    "# Python 中使用 for in 形式的循环,Python使用缩进来做语句块分隔\n",
    "#模拟浏览器的指针，需要加筛选条件\n",
    "#macbook 找到目标网页之后command+option+i便能得到网页源代码\n",
    "for tags in bs_info.find_all('div', attrs={'class': 'hd'}):#find_all模拟鼠标点击的方式，寻找‘div’这个元素，并找到div元素下面的class属性，属性名称是‘hd’。\n",
    "    for atag in tags.find_all('a'):                        #hd对应的是电影的名字\n",
    "        print(atag.get('href'))#获得a标签的属性\n",
    "        # 获取所有链接\n",
    "        print(atag.find('span').text)\n",
    "        # 获取电影名字"
   ]
  },
  {
   "cell_type": "code",
   "execution_count": null,
   "metadata": {},
   "outputs": [],
   "source": []
  }
 ],
 "metadata": {
  "kernelspec": {
   "display_name": "Python 3",
   "language": "python",
   "name": "python3"
  },
  "language_info": {
   "codemirror_mode": {
    "name": "ipython",
    "version": 3
   },
   "file_extension": ".py",
   "mimetype": "text/x-python",
   "name": "python",
   "nbconvert_exporter": "python",
   "pygments_lexer": "ipython3",
   "version": "3.7.4"
  }
 },
 "nbformat": 4,
 "nbformat_minor": 2
}
