{
 "cells": [
  {
   "cell_type": "code",
   "execution_count": 1,
   "metadata": {},
   "outputs": [
    {
     "name": "stdout",
     "output_type": "stream",
     "text": [
      "电影名称: ['肖申克的救赎 The Shawshank Redemption']\n",
      "上映日期: ['1994-09-10(多伦多电影节)']\n",
      "评分：['9.7']\n"
     ]
    }
   ],
   "source": [
    "import requests\n",
    "import lxml.etree\n",
    "\n",
    "# 爬取页面详细信息\n",
    "\n",
    "# 电影详细页面\n",
    "url = 'https://movie.douban.com/subject/1292052/'\n",
    "\n",
    "user_agent = 'Mozilla/5.0 (Macintosh; Intel Mac OS X 10_15_1) AppleWebKit/537.36 (KHTML, like Gecko) Chrome/78.0.3904.108 Safari/537.36'\n",
    "\n",
    "# 声明为字典使用字典的语法赋值\n",
    "header = {}\n",
    "header['user-agent'] = user_agent\n",
    "response = requests.get(url, headers=header)#进入详情页面\n",
    "\n",
    "# xml化处理\n",
    "selector = lxml.etree.HTML(response.text)#？？\n",
    "\n",
    "# 电影名称\n",
    "film_name = selector.xpath('//*[@id=\"content\"]/h1/span[1]/text()')#text取标签具体的内容，即上映日期\n",
    "print(f'电影名称: {film_name}')\n",
    "\n",
    "# 上映日期\n",
    "plan_date = selector.xpath('//*[@id=\"info\"]/span[10]/text()')\n",
    "print(f'上映日期: {plan_date}')\n",
    "\n",
    "# 评分\n",
    "rating = selector.xpath('//*[@id=\"interest_sectl\"]/div[1]/div[2]/strong/text()')\n",
    "print(f'评分：{rating}')\n",
    "\n",
    "mylist = [film_name, plan_date, rating]\n",
    "\n",
    "import pandas as pd\n",
    "\n",
    "movie1 = pd.DataFrame(data = mylist)\n",
    "\n",
    "# windows需要使用gbk字符集\n",
    "movie1.to_csv('./movie1.csv', encoding='utf8', index=False, header=False)"
   ]
  },
  {
   "cell_type": "code",
   "execution_count": null,
   "metadata": {},
   "outputs": [],
   "source": []
  }
 ],
 "metadata": {
  "kernelspec": {
   "display_name": "Python 3",
   "language": "python",
   "name": "python3"
  },
  "language_info": {
   "codemirror_mode": {
    "name": "ipython",
    "version": 3
   },
   "file_extension": ".py",
   "mimetype": "text/x-python",
   "name": "python",
   "nbconvert_exporter": "python",
   "pygments_lexer": "ipython3",
   "version": "3.7.4"
  }
 },
 "nbformat": 4,
 "nbformat_minor": 2
}
